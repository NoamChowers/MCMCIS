{
 "cells": [
  {
   "cell_type": "code",
   "execution_count": 9,
   "id": "6a096a92",
   "metadata": {},
   "outputs": [],
   "source": [
    "import numpy as np\n",
    "import pandas as pd\n",
    "\n",
    "from mh_utils import (\n",
    "    PermutationPropsal, PermutationStatistic, MCMCISPermutationTest\n",
    ")\n",
    "from samc import SAMC\n",
    "from mcmcis import SmoothedMCMCIS\n",
    "from variance_estimation import MCMCVarianceEstimation\n",
    "\n",
    "import seaborn as sns\n",
    "\n",
    "from itertools import combinations\n",
    "from math import comb"
   ]
  },
  {
   "cell_type": "code",
   "execution_count": 10,
   "id": "0ae27651",
   "metadata": {},
   "outputs": [],
   "source": [
    "def permutation_test(\n",
    "    s1,\n",
    "    s2,\n",
    "    stat=None,\n",
    "    alternative=\"greater\",   # \"greater\" | \"less\" | \"two-sided\"\n",
    "    exact=True,\n",
    "    max_enumerations=5_000_000,\n",
    "):\n",
    "    \"\"\"\n",
    "    Exact (or MC) permutation test for two samples.\n",
    "\n",
    "    Parameters\n",
    "    ----------\n",
    "    s1, s2 : array-like\n",
    "        Samples (1-D).\n",
    "    stat : callable or None\n",
    "        Test statistic function stat(s1, s2) -> float.\n",
    "        If None: uses difference of means: mean(s1) - mean(s2).\n",
    "    alternative : {\"greater\",\"less\",\"two-sided\"}\n",
    "        Tail definition relative to the observed statistic.\n",
    "    exact : bool\n",
    "        If True, enumerate all label permutations (over group membership).\n",
    "        If total permutations exceed `max_enumerations`, raises ValueError.\n",
    "        If False, draws a uniform random sample of size `max_enumerations`.\n",
    "    max_enumerations : int\n",
    "        For exact=True: hard cap on exact enumerations.\n",
    "        For exact=False: number of Monte Carlo permutations to sample.\n",
    "\n",
    "    Returns\n",
    "    -------\n",
    "    p_value : float\n",
    "        Estimated p-value (exact or MC).\n",
    "    observed : float\n",
    "        Observed statistic on the original split.\n",
    "    enumerations_used : int\n",
    "        Number of permutations actually evaluated.\n",
    "    exact_flag : bool\n",
    "        True if exact enumeration was used; False if Monte Carlo sampling.\n",
    "    \"\"\"\n",
    "    s1 = np.asarray(s1, dtype=float).ravel()\n",
    "    s2 = np.asarray(s2, dtype=float).ravel()\n",
    "    n1, n2 = len(s1), len(s2)\n",
    "    N = n1 + n2\n",
    "    pooled = np.concatenate([s1, s2])\n",
    "\n",
    "    if stat is None:\n",
    "        def stat(a, b):  # difference in means\n",
    "            return float(np.mean(a) - np.mean(b))\n",
    "\n",
    "    observed = stat(s1, s2)\n",
    "    total_perms = comb(N, n1)\n",
    "\n",
    "    if exact:\n",
    "        if total_perms > max_enumerations:\n",
    "            raise ValueError(\n",
    "                f\"Exact enumeration requires {total_perms} labelings \"\n",
    "                f\"but max_enumerations={max_enumerations}.\"\n",
    "            )\n",
    "        count = 0\n",
    "        for idx in combinations(range(N), n1):\n",
    "            mask = np.zeros(N, dtype=bool)\n",
    "            mask[list(idx)] = True\n",
    "            t = stat(pooled[mask], pooled[~mask])\n",
    "            if _tail_indicator(t, observed, alternative):\n",
    "                count += 1\n",
    "        p_value = count / total_perms\n",
    "        return float(p_value), float(observed), int(total_perms), True\n",
    "\n",
    "    # ---- Monte Carlo: uniform random sample of size max_enumerations ----\n",
    "    rng = np.random.default_rng()\n",
    "    hits = 0\n",
    "    for _ in range(max_enumerations):\n",
    "        mask = np.zeros(N, dtype=bool)\n",
    "        # choose group-1 indices uniformly without replacement (within each draw)\n",
    "        mask[rng.choice(N, size=n1, replace=False)] = True\n",
    "        t = stat(pooled[mask], pooled[~mask])\n",
    "        if _tail_indicator(t, observed, alternative):\n",
    "            hits += 1\n",
    "\n",
    "    # Plain Monte Carlo estimate; change to (hits+1)/(max_enumerations+1) if you want a small-sample guard\n",
    "    p_value = hits / max_enumerations\n",
    "    return float(p_value), float(observed), int(max_enumerations), False\n",
    "\n",
    "\n",
    "def _tail_indicator(t, t_obs, alternative):\n",
    "    if alternative == \"greater\":\n",
    "        return t >= t_obs\n",
    "    if alternative == \"less\":\n",
    "        return t <= t_obs\n",
    "    if alternative == \"two-sided\":\n",
    "        return abs(t) >= abs(t_obs)\n",
    "    raise ValueError(\"alternative must be 'greater', 'less', or 'two-sided'\")"
   ]
  },
  {
   "cell_type": "code",
   "execution_count": 11,
   "id": "2e02b928",
   "metadata": {},
   "outputs": [],
   "source": [
    "class DifferenceInMeans(PermutationStatistic):\n",
    "    def __call__(self, s1, s2):\n",
    "        return np.mean(s1) - np.mean(s2)\n",
    "\n",
    "\n",
    "\n",
    "\n",
    "class SwapProposal(PermutationPropsal):\n",
    "    def __init__(self, swap_size: int):\n",
    "        self.swap_size = swap_size\n",
    "    \n",
    "    def __call__(self, s1, s2):\n",
    "        # choose random indices\n",
    "        idx_s1 = np.random.choice(s1.shape[0], self.swap_size, replace=False)\n",
    "        idx_s2 = np.random.choice(s2.shape[0], self.swap_size, replace=False)\n",
    "\n",
    "        new_s1, new_s2 = s1.copy(), s2.copy()\n",
    "        new_s1[idx_s1] = s2[idx_s2]\n",
    "        new_s2[idx_s2] = s1[idx_s1]\n",
    "\n",
    "        return new_s1, new_s2\n"
   ]
  },
  {
   "cell_type": "code",
   "execution_count": 12,
   "id": "9269431d",
   "metadata": {},
   "outputs": [],
   "source": [
    "np.random.seed(111)\n",
    "\n",
    "s1 = np.random.poisson(5, 15)\n",
    "s2 = np.random.poisson(2, 10)\n",
    "\n",
    "\n",
    "diff_in_means = DifferenceInMeans()\n",
    "proposal_swaps = SwapProposal(swap_size=2)\n",
    "\n",
    "sv_var = MCMCVarianceEstimation(method=\"sv\")"
   ]
  },
  {
   "cell_type": "code",
   "execution_count": 13,
   "id": "530aae81",
   "metadata": {},
   "outputs": [
    {
     "name": "stdout",
     "output_type": "stream",
     "text": [
      "### Starting Adaptation Chain 1/4 ###\n",
      "p-value = 0.00041668405985174336\n",
      "SD estimate = 0.0001719147708442199\n",
      "Acceptance rate = 0.7735\n",
      "### Starting Adaptation Chain 2/4 ###\n",
      "p-value = 0.00033840220489266475\n",
      "SD estimate = 0.00019768089398228112\n",
      "Acceptance rate = 0.6682\n",
      "### Starting Adaptation Chain 3/4 ###\n",
      "p-value = 0.00047464134102574333\n",
      "SD estimate = 0.000257366697201305\n",
      "Acceptance rate = 0.6329\n",
      "### Starting Adaptation Chain 4/4 ###\n",
      "p-value = 0.00045922812677790366\n",
      "SD estimate = 0.0002561036428109732\n",
      "Acceptance rate = 0.6265\n"
     ]
    },
    {
     "data": {
      "text/plain": [
       "<mh_utils.MCMCISPermutationTest at 0x111fbe850>"
      ]
     },
     "execution_count": 13,
     "metadata": {},
     "output_type": "execute_result"
    }
   ],
   "source": [
    "smcmcis = SmoothedMCMCIS(\n",
    "    s1=s1,\n",
    "    s2=s2,\n",
    "    lambda_star=diff_in_means(s1, s2),\n",
    "    target_prob=0.01,\n",
    "    statistic_func=diff_in_means\n",
    ")\n",
    "\n",
    "smoothed_mcmcis = MCMCISPermutationTest(\n",
    "    s1=s1,\n",
    "    s2=s2,\n",
    "    J=4,\n",
    "    T=1_000_00,\n",
    "    B=25_000,\n",
    "    ais=smcmcis,\n",
    "    statistic_func=diff_in_means,\n",
    "    proposal_func=proposal_swaps,\n",
    "    variance_estimation_method=sv_var,\n",
    "    log_scale=False,\n",
    "    calc_estimator_variance=True,\n",
    ")\n",
    "\n",
    "smoothed_mcmcis.run_chain()"
   ]
  },
  {
   "cell_type": "code",
   "execution_count": 14,
   "id": "15a4298e",
   "metadata": {},
   "outputs": [
    {
     "name": "stdout",
     "output_type": "stream",
     "text": [
      "### Starting Adaptation Chain 1/2 ###\n"
     ]
    },
    {
     "name": "stderr",
     "output_type": "stream",
     "text": [
      "/Users/noamchowers/Documents/University/Thesis/Code/MCMCIS/samc.py:52: RuntimeWarning: overflow encountered in exp\n",
      "  return np.exp(-self.theta[self._find_region(x)])\n"
     ]
    },
    {
     "name": "stdout",
     "output_type": "stream",
     "text": [
      "p-value = 0.0003638080725444548\n",
      "Acceptance rate = 0.6403\n",
      "### Starting Adaptation Chain 2/2 ###\n",
      "p-value = 0.00043976812774581105\n",
      "Acceptance rate = 0.6397\n"
     ]
    },
    {
     "data": {
      "text/plain": [
       "<mh_utils.MCMCISPermutationTest at 0x111fbe710>"
      ]
     },
     "execution_count": 14,
     "metadata": {},
     "output_type": "execute_result"
    }
   ],
   "source": [
    "samc = SAMC(\n",
    "    lambda_star=diff_in_means(s1, s2),\n",
    "    num_regions=100,\n",
    "    lower_bound = -1,\n",
    "    t0=10_000\n",
    ")\n",
    "\n",
    "samc_mcmcis = MCMCISPermutationTest(\n",
    "    s1=s1,\n",
    "    s2=s2,\n",
    "    J=2,\n",
    "    T=1_000_000,\n",
    "    B=25_000,\n",
    "    ais=samc,\n",
    "    statistic_func=diff_in_means,\n",
    "    proposal_func=proposal_swaps,\n",
    "    variance_estimation_method=sv_var,\n",
    "    log_scale=True,\n",
    "    calc_estimator_variance=False,\n",
    ")\n",
    "\n",
    "samc_mcmcis.run_chain()"
   ]
  },
  {
   "cell_type": "code",
   "execution_count": null,
   "id": "8de80592",
   "metadata": {},
   "outputs": [
    {
     "name": "stdout",
     "output_type": "stream",
     "text": [
      "0.000363\n"
     ]
    }
   ],
   "source": [
    "# Simple example\n",
    "np.random.seed(111)\n",
    "p, t_obs, K, is_exact = permutation_test(s1, s2, alternative=\"greater\", exact=False, max_enumerations=1_000_000)\n",
    "print(p)"
   ]
  },
  {
   "cell_type": "code",
   "execution_count": 16,
   "id": "45ffcf52",
   "metadata": {},
   "outputs": [
    {
     "name": "stdout",
     "output_type": "stream",
     "text": [
      "0.0003876087568374552\n"
     ]
    }
   ],
   "source": [
    "# Simple example\n",
    "p, t_obs, K, is_exact = permutation_test(s1, s2, alternative=\"greater\", exact=True)\n",
    "print(p)"
   ]
  }
 ],
 "metadata": {
  "kernelspec": {
   "display_name": ".venv (3.13.0)",
   "language": "python",
   "name": "python3"
  },
  "language_info": {
   "codemirror_mode": {
    "name": "ipython",
    "version": 3
   },
   "file_extension": ".py",
   "mimetype": "text/x-python",
   "name": "python",
   "nbconvert_exporter": "python",
   "pygments_lexer": "ipython3",
   "version": "3.13.0"
  }
 },
 "nbformat": 4,
 "nbformat_minor": 5
}
