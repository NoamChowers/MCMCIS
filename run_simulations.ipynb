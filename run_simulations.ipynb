{
 "cells": [
  {
   "cell_type": "code",
   "execution_count": 1,
   "id": "6a096a92",
   "metadata": {},
   "outputs": [],
   "source": [
    "import numpy as np\n",
    "import pandas as pd\n",
    "\n",
    "from mh_utils import (\n",
    "    AdaptiveImportanceSampling, PermutationPropsal, PermutationStatistic, MCMCISPermutationTest\n",
    ")\n",
    "from samc import SAMC\n",
    "from mcmcis import SmoothedMCMCIS\n",
    "\n",
    "import seaborn as sns\n",
    "\n",
    "import numpy as np\n",
    "from itertools import combinations\n",
    "from math import comb\n"
   ]
  },
  {
   "cell_type": "code",
   "execution_count": 2,
   "id": "0ae27651",
   "metadata": {},
   "outputs": [],
   "source": [
    "def permutation_test(\n",
    "    s1,\n",
    "    s2,\n",
    "    stat=None,\n",
    "    alternative=\"greater\",   # \"greater\" | \"less\" | \"two-sided\"\n",
    "    exact=True,\n",
    "    max_enumerations=5_000_000,\n",
    "):\n",
    "    \"\"\"\n",
    "    Exact (or MC) permutation test for two samples.\n",
    "\n",
    "    Parameters\n",
    "    ----------\n",
    "    s1, s2 : array-like\n",
    "        Samples (1-D).\n",
    "    stat : callable or None\n",
    "        Test statistic function stat(s1, s2) -> float.\n",
    "        If None: uses difference of means: mean(s1) - mean(s2).\n",
    "    alternative : {\"greater\",\"less\",\"two-sided\"}\n",
    "        Tail definition relative to the observed statistic.\n",
    "    exact : bool\n",
    "        If True, enumerate all label permutations (over group membership).\n",
    "        If the number of permutations exceeds `max_enumerations`, falls back\n",
    "        to Monte Carlo with `n_resamples`.\n",
    "    max_enumerations : int\n",
    "        Hard cap on number of exact permutations to iterate.\n",
    "    n_resamples : int\n",
    "        Number of Monte Carlo permutations if exact is infeasible.\n",
    "    random_state : int or None\n",
    "        Seed for Monte Carlo.\n",
    "\n",
    "    Returns\n",
    "    -------\n",
    "    p_value : float\n",
    "        Estimated (exact or MC) p-value.\n",
    "    observed : float\n",
    "        Observed statistic on the original split.\n",
    "    enumerations_used : int\n",
    "        Number of permutations actually evaluated.\n",
    "    exact_flag : bool\n",
    "        True if exact enumeration was used; False if Monte Carlo fallback.\n",
    "    \"\"\"\n",
    "    s1 = np.asarray(s1, dtype=float).ravel()\n",
    "    s2 = np.asarray(s2, dtype=float).ravel()\n",
    "    n1, n2 = len(s1), len(s2)\n",
    "    N = n1 + n2\n",
    "    pooled = np.concatenate([s1, s2])\n",
    "\n",
    "    if stat is None:\n",
    "        def stat(a, b):  # difference in means\n",
    "            return float(np.mean(a) - np.mean(b))\n",
    "\n",
    "    observed = stat(s1, s2)\n",
    "\n",
    "\n",
    "    total_perms = comb(N, n1)\n",
    "\n",
    "    # If exact is requested but huge, fallback to MC.\n",
    "    if exact and total_perms <= max_enumerations:\n",
    "        count = 0\n",
    "        # Enumerate all combinations of indices for group 1\n",
    "        # Generic: build groups explicitly\n",
    "        all_idx = np.arange(N)\n",
    "        for idx in combinations(range(N), n1):\n",
    "            mask = np.zeros(N, dtype=bool)\n",
    "            mask[list(idx)] = True\n",
    "            t = stat(pooled[mask], pooled[~mask])\n",
    "            if _tail_indicator(t, observed, alternative):\n",
    "                count += 1\n",
    "\n",
    "        # p-value with standard permutation “>=” counting and no +1 (exact)\n",
    "        p_value = count / total_perms\n",
    "        return float(p_value), float(observed), int(total_perms), True\n",
    "\n",
    "    else: raise ValueError\n",
    "    \n",
    "def _tail_indicator(t, t_obs, alternative):\n",
    "    \"\"\"Return True if t is at least as extreme as t_obs in the requested tail.\"\"\"\n",
    "    if alternative == \"greater\":\n",
    "        return t >= t_obs\n",
    "    if alternative == \"less\":\n",
    "        return t <= t_obs\n",
    "    if alternative == \"two-sided\":\n",
    "        # Two-sided by absolute deviation from the null center (0 for diff of means).\n",
    "        # If you use a general stat not centered at 0 under H0, adapt this.\n",
    "        return abs(t) >= abs(t_obs)\n",
    "    raise ValueError(\"alternative must be 'greater', 'less', or 'two-sided'\")"
   ]
  },
  {
   "cell_type": "code",
   "execution_count": 3,
   "id": "2e02b928",
   "metadata": {},
   "outputs": [],
   "source": [
    "class DifferenceInMeans(PermutationStatistic):\n",
    "    def __call__(self, s1, s2):\n",
    "        return np.mean(s1) - np.mean(s2)\n",
    "\n",
    "\n",
    "\n",
    "\n",
    "class SwapProposal(PermutationPropsal):\n",
    "    def __init__(self, swap_size: int):\n",
    "        self.swap_size = swap_size\n",
    "    \n",
    "    def __call__(self, s1, s2):\n",
    "        # choose random indices\n",
    "        idx_s1 = np.random.choice(s1.shape[0], self.swap_size, replace=False)\n",
    "        idx_s2 = np.random.choice(s2.shape[0], self.swap_size, replace=False)\n",
    "\n",
    "        new_s1, new_s2 = s1.copy(), s2.copy()\n",
    "        new_s1[idx_s1] = s2[idx_s2]\n",
    "        new_s2[idx_s2] = s1[idx_s1]\n",
    "\n",
    "        return new_s1, new_s2\n"
   ]
  },
  {
   "cell_type": "code",
   "execution_count": 4,
   "id": "9269431d",
   "metadata": {},
   "outputs": [],
   "source": [
    "np.random.seed(111)\n",
    "\n",
    "s1 = np.random.poisson(5, 15)\n",
    "s2 = np.random.poisson(2, 10)\n",
    "\n",
    "\n",
    "diff_in_means = DifferenceInMeans()\n",
    "proposal_swaps = SwapProposal(swap_size=2)\n",
    "\n",
    "samc = SAMC(\n",
    "    lambda_star=diff_in_means(s1, s2),\n",
    "    num_regions=100,\n",
    "    lower_bound = -1,\n",
    "    t0=10_000\n",
    ")"
   ]
  },
  {
   "cell_type": "code",
   "execution_count": 5,
   "id": "dd0de6bf",
   "metadata": {},
   "outputs": [],
   "source": [
    "smcmcis = SmoothedMCMCIS(\n",
    "    s1=s1,\n",
    "    s2=s2,\n",
    "    lambda_star=diff_in_means(s1, s2),\n",
    "    target_prob=0.01,\n",
    "    statistic_func=diff_in_means\n",
    ")"
   ]
  },
  {
   "cell_type": "code",
   "execution_count": 6,
   "id": "530aae81",
   "metadata": {},
   "outputs": [
    {
     "name": "stdout",
     "output_type": "stream",
     "text": [
      "### Starting Adaptation Chain 1/4 ###\n",
      "p-value = 0.0004568424543735417\n",
      "Acceptance rate = 0.7718\n",
      "### Starting Adaptation Chain 2/4 ###\n",
      "p-value = 0.0003502502093686491\n",
      "Acceptance rate = 0.671\n",
      "### Starting Adaptation Chain 3/4 ###\n",
      "p-value = 0.00039970677304580423\n",
      "Acceptance rate = 0.6373\n",
      "### Starting Adaptation Chain 4/4 ###\n",
      "p-value = 0.0003911984719842857\n",
      "Acceptance rate = 0.6201\n"
     ]
    },
    {
     "data": {
      "text/plain": [
       "<mh_utils.MCMCISPermutationTest at 0x11da3c980>"
      ]
     },
     "execution_count": 6,
     "metadata": {},
     "output_type": "execute_result"
    }
   ],
   "source": [
    "smoothed_mcmcis = MCMCISPermutationTest(\n",
    "    s1=s1,\n",
    "    s2=s2,\n",
    "    J=4,\n",
    "    T=1_000_00,\n",
    "    B=25_000,\n",
    "    ais=smcmcis,\n",
    "    statistic_func=diff_in_means,\n",
    "    proposal_func=proposal_swaps,\n",
    "    variance_estimation_method=\"whatever\",\n",
    "    log_scale=False\n",
    ")\n",
    "\n",
    "smoothed_mcmcis.run_chain()"
   ]
  },
  {
   "cell_type": "code",
   "execution_count": null,
   "id": "15a4298e",
   "metadata": {},
   "outputs": [
    {
     "name": "stdout",
     "output_type": "stream",
     "text": [
      "### Starting Adaptation Chain 1/2 ###\n"
     ]
    }
   ],
   "source": [
    "samc_mcmcis = MCMCISPermutationTest(\n",
    "    s1=s1,\n",
    "    s2=s2,\n",
    "    J=2,\n",
    "    T=1_000_000,\n",
    "    B=25_000,\n",
    "    ais=samc,\n",
    "    statistic_func=diff_in_means,\n",
    "    proposal_func=proposal_swaps,\n",
    "    variance_estimation_method=\"whatever\",\n",
    "    log_scale=True\n",
    ")\n",
    "\n",
    "samc_mcmcis.run_chain()"
   ]
  },
  {
   "cell_type": "code",
   "execution_count": null,
   "id": "8de80592",
   "metadata": {},
   "outputs": [
    {
     "name": "stdout",
     "output_type": "stream",
     "text": [
      "0.0003876087568374552\n"
     ]
    }
   ],
   "source": [
    "# Simple example\n",
    "p, t_obs, K, is_exact = permutation_test(s1, s2, alternative=\"greater\", exact=True)\n",
    "print(p)"
   ]
  }
 ],
 "metadata": {
  "kernelspec": {
   "display_name": ".venv (3.13.0)",
   "language": "python",
   "name": "python3"
  },
  "language_info": {
   "codemirror_mode": {
    "name": "ipython",
    "version": 3
   },
   "file_extension": ".py",
   "mimetype": "text/x-python",
   "name": "python",
   "nbconvert_exporter": "python",
   "pygments_lexer": "ipython3",
   "version": "3.13.0"
  }
 },
 "nbformat": 4,
 "nbformat_minor": 5
}
